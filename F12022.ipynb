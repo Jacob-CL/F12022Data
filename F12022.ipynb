{
 "cells": [
  {
   "cell_type": "markdown",
   "metadata": {},
   "source": [
    "# Formula 1 season 2022 Analysis"
   ]
  },
  {
   "cell_type": "code",
   "execution_count": 3,
   "metadata": {},
   "outputs": [],
   "source": [
    "# Import packages\n",
    "import numpy as np\n",
    "import pandas as pd\n",
    "import matplotlib.pyplot as plt\n",
    "import seaborn as sns\n",
    "import math"
   ]
  },
  {
   "cell_type": "markdown",
   "metadata": {},
   "source": [
    "## Import F1 2022 Data from CSV"
   ]
  },
  {
   "cell_type": "code",
   "execution_count": 4,
   "metadata": {},
   "outputs": [],
   "source": [
    "# Season Calender\n",
    "Season_Calender = pd.read_csv('Formula1_2022season_calendar.csv')\n",
    "Season_Calender.set_index('Round', inplace=True)\n",
    "\n",
    "# Teams\n",
    "Teams = pd.read_csv('Formula1_2022season_teams.csv')\n",
    "Teams.index = range(1,11)\n",
    "\n",
    "# Drivers\n",
    "Drivers = pd.read_csv('Formula1_2022season_drivers.csv')\n",
    "Drivers.set_index('Abbreviation', inplace=True)\n",
    "\n",
    "# Driver of the Day\n",
    "DriveroftheDay = pd.read_csv('Formula1_2022season_driverOfTheDayVotes.csv')\n",
    "DriveroftheDay.set_index('Track', inplace=True)\n",
    "\n",
    "# Qualifying Results\n",
    "Q_Results = pd.read_csv('Formula1_2022season_qualifyingResults.csv')\n",
    "\n",
    "# Sprint Race Results \n",
    "SR_Result = pd.read_csv('Formula1_2022season_sprintRaceResults.csv')\n",
    "\n",
    "# Race Results\n",
    "R_Results = pd.read_csv('Formula1_2022season_raceResults.csv')\n"
   ]
  },
  {
   "cell_type": "code",
   "execution_count": null,
   "metadata": {},
   "outputs": [],
   "source": []
  }
 ],
 "metadata": {
  "kernelspec": {
   "display_name": "Python 3",
   "language": "python",
   "name": "python3"
  },
  "language_info": {
   "codemirror_mode": {
    "name": "ipython",
    "version": 3
   },
   "file_extension": ".py",
   "mimetype": "text/x-python",
   "name": "python",
   "nbconvert_exporter": "python",
   "pygments_lexer": "ipython3",
   "version": "3.12.0"
  }
 },
 "nbformat": 4,
 "nbformat_minor": 2
}
